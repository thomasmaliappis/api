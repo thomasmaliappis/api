{
 "nbformat": 4,
 "nbformat_minor": 0,
 "metadata": {
  "colab": {
   "name": "process_dataset.ipynb",
   "provenance": [],
   "collapsed_sections": [
    "2_ov5Bhazqv3",
    "bqCnXTtyznwY",
    "cPDSTtefzwhe",
    "sIGsUNqTzd9a",
    "QQHIifuczbmZ"
   ],
   "machine_shape": "hm"
  },
  "kernelspec": {
   "name": "python3",
   "display_name": "Python 3"
  },
  "language_info": {
   "name": "python"
  },
  "accelerator": "GPU"
 },
 "cells": [
  {
   "cell_type": "code",
   "execution_count": null,
   "metadata": {
    "id": "l1HlSlfepr24",
    "pycharm": {
     "name": "#%%\n"
    }
   },
   "outputs": [],
   "source": [
    "import os\n",
    "import time\n",
    "\n",
    "import librosa\n",
    "import librosa.display\n",
    "import librosa.display\n",
    "import matplotlib.pyplot as plt\n",
    "import numpy as np\n",
    "import pywt\n",
    "import tensorflow as tf\n",
    "from scipy.io import wavfile"
   ]
  },
  {
   "cell_type": "markdown",
   "source": [
    "# Train data"
   ],
   "metadata": {
    "id": "2_ov5Bhazqv3",
    "pycharm": {
     "name": "#%% md\n"
    }
   }
  },
  {
   "cell_type": "code",
   "source": [
    "def get_instrument_data(dir):\n",
    "    instrument_mel_data = []\n",
    "    for file in os.listdir(dir):\n",
    "        instrument_mel_data.extend(get_mel(dir + '/' + file))\n",
    "    return np.asarray(instrument_mel_data)\n",
    "\n",
    "def get_instrument_scalogram_data(dir):\n",
    "    instrument_mel_data = []\n",
    "    for file in os.listdir(dir):\n",
    "        instrument_mel_data.extend(get_scalogram(dir + '/' + file))\n",
    "    return np.asarray(instrument_mel_data)\n",
    "\n",
    "def read_train_data(dir, scalogram=False):\n",
    "    data = []\n",
    "    labels = []\n",
    "    for instrument in os.scandir(dir):\n",
    "        if instrument.is_dir():\n",
    "            if scalogram:\n",
    "                instrument_data = get_instrument_scalogram_data(instrument.path)\n",
    "            else:\n",
    "                instrument_data = get_instrument_data(instrument.path)\n",
    "            data.append(instrument_data)\n",
    "            labels.extend([instrument.name] * len(instrument_data))\n",
    "    return np.concatenate(data, axis=0), labels"
   ],
   "metadata": {
    "id": "3fsgmN4kxeDo",
    "pycharm": {
     "name": "#%%\n"
    }
   },
   "execution_count": null,
   "outputs": []
  },
  {
   "cell_type": "markdown",
   "source": [
    "# Test data"
   ],
   "metadata": {
    "id": "bqCnXTtyznwY",
    "pycharm": {
     "name": "#%% md\n"
    }
   }
  },
  {
   "cell_type": "code",
   "source": [
    "def get_label(file):\n",
    "    with open(file) as f:\n",
    "        label = f.readline().rstrip()\n",
    "    return label\n",
    "\n",
    "def read_test_data(dir, scalogram=False):\n",
    "    data = []\n",
    "    labels = []\n",
    "    label = ''\n",
    "    parts = next(os.walk(dir))[1]\n",
    "    for part in parts:\n",
    "        part_path = dir + '/' + part\n",
    "        for file in os.listdir(part_path):\n",
    "            file_path = part_path + '/' + file\n",
    "            if file.endswith('.txt'):\n",
    "                label = get_label(file_path)\n",
    "            elif file.endswith('.wav'):\n",
    "                if scalogram:\n",
    "                    mel_specs = get_test_scalogram(file_path)\n",
    "                else:\n",
    "                    mel_specs = get_test_mel(file_path)\n",
    "                multiplier = len(mel_specs)\n",
    "                data.append(mel_specs)\n",
    "                for i in range(multiplier):\n",
    "                    labels.append(label)\n",
    "    data = [element for sublist in data for element in sublist]\n",
    "    return np.asarray(data), labels"
   ],
   "metadata": {
    "id": "CMSfaHb7xjRE",
    "pycharm": {
     "name": "#%%\n"
    }
   },
   "execution_count": null,
   "outputs": []
  },
  {
   "cell_type": "markdown",
   "source": [
    "# From .wav to mel spectogram"
   ],
   "metadata": {
    "id": "cPDSTtefzwhe",
    "pycharm": {
     "name": "#%% md\n"
    }
   }
  },
  {
   "cell_type": "code",
   "source": [
    "def get_mel(filename, plot=False, test=False):\n",
    "    # load audio\n",
    "    samples, sample_rate = librosa.load(filename, sr=None)\n",
    "    if plot:\n",
    "        # x-axis has been converted to time using our sample rate.\n",
    "        # matplotlib plt.plot(y), would output the same figure, but with sample\n",
    "        # number on the x-axis instead of seconds\n",
    "        plt.figure(figsize=(14, 5))\n",
    "        librosa.display.waveshow(samples, sr=sample_rate)\n",
    "        plt.show()\n",
    "\n",
    "    # print('Example shape ', samples.shape, 'Sample rate ', sample_rate, 'Data type', type(samples))\n",
    "    # print(samples[22400:22420])\n",
    "\n",
    "    shape = samples.shape[0]\n",
    "    if test:\n",
    "        seconds = round(shape / sample_rate) - 1\n",
    "    else:\n",
    "        seconds = round(shape / sample_rate)\n",
    "\n",
    "    audio_samples = [samples[i * sample_rate: ((i + 1) * sample_rate) - 1] for i in range(seconds)]\n",
    "    # audio_samples = [samples[0:sample_rate], samples[sample_rate:2 * sample_rate], samples[2 * sample_rate:]]\n",
    "\n",
    "    mel_sgrams = []\n",
    "    for audio_sample in audio_samples:\n",
    "\n",
    "        # get spectogram\n",
    "        sgram = librosa.stft(audio_sample)\n",
    "        if plot:\n",
    "            librosa.display.specshow(sgram)\n",
    "            plt.show()\n",
    "\n",
    "        # use the mel-scale instead of raw frequency\n",
    "        sgram_mag, _ = librosa.magphase(sgram)\n",
    "        mel_scale_sgram = librosa.feature.melspectrogram(S=sgram_mag, sr=sample_rate)\n",
    "        if plot:\n",
    "            librosa.display.specshow(mel_scale_sgram)\n",
    "            plt.show()\n",
    "\n",
    "        # use the decibel scale to get the final Mel Spectrogram\n",
    "        mel_sgram = librosa.amplitude_to_db(mel_scale_sgram, ref=np.min)\n",
    "        mel_sgrams.append(mel_sgram)\n",
    "        if plot:\n",
    "            librosa.display.specshow(mel_sgram, sr=sample_rate, x_axis='time', y_axis='mel')\n",
    "            plt.colorbar(format='%+2.0f dB')\n",
    "            plt.show()\n",
    "\n",
    "    return mel_sgrams\n",
    "\n",
    "def get_test_mel(file):\n",
    "    mel_specs = []\n",
    "\n",
    "    mel_specs.extend(get_mel(file, plot=False, test=True))\n",
    "\n",
    "    return mel_specs\n",
    "\n"
   ],
   "metadata": {
    "id": "_1htnkF-p0Pa",
    "pycharm": {
     "name": "#%%\n"
    }
   },
   "execution_count": null,
   "outputs": []
  },
  {
   "cell_type": "markdown",
   "source": [
    "# From .wav to scalogram"
   ],
   "metadata": {
    "id": "24ovUD4slqEi",
    "pycharm": {
     "name": "#%% md\n"
    }
   }
  },
  {
   "cell_type": "code",
   "source": [
    "def get_scalogram(filename, plot=False):\n",
    "    # def cwt(file)\n",
    "\n",
    "    # test\n",
    "    sample_rate, data = wavfile.read(filename)\n",
    "\n",
    "    # Normalize\n",
    "    data = np.arange(len(data))\n",
    "    data = data / max(data)\n",
    "    # print(data)\n",
    "\n",
    "    wav = pywt.ContinuousWavelet('morl')\n",
    "    width = wav.upper_bound - wav.lower_bound + 1\n",
    "\n",
    "    # get scalogram\n",
    "    coef, freqs = pywt.cwt(data, np.arange(1, 129), 'morl')\n",
    "\n",
    "    if plot:\n",
    "        fig, ax = plt.subplots()\n",
    "        ax.imshow(coef, cmap='coolwarm', aspect='auto')\n",
    "        # plt.matshow(coef)\n",
    "    return coef\n",
    "\n",
    "def get_test_scalogram(filename, plot=False):\n",
    "    # def cwt(file)\n",
    "\n",
    "    # test\n",
    "    sample_rate, data = wavfile.read(filename)\n",
    "\n",
    "    # Normalize\n",
    "    data = np.arange(len(data))\n",
    "    data = data / max(data)\n",
    "    # print(data)\n",
    "\n",
    "    shape = data.shape[0]\n",
    "    seconds = round(shape / sample_rate)\n",
    "    samples = int(seconds / 3)\n",
    "\n",
    "    audio_data = [data[i * sample_rate: ((i + 3) * sample_rate) - 1] for i in range(samples)]\n",
    "\n",
    "    coefs = []\n",
    "\n",
    "    for audio in audio_data:\n",
    "\n",
    "        wav = pywt.ContinuousWavelet('morl')\n",
    "        width = wav.upper_bound - wav.lower_bound + 1\n",
    "\n",
    "        # get scalogram\n",
    "        coef, freqs = pywt.cwt(audio, np.arange(1, 129), 'morl')\n",
    "\n",
    "        coefs.append(coef)\n",
    "\n",
    "        if plot:\n",
    "            fig, ax = plt.subplots()\n",
    "            ax.imshow(coef, cmap='coolwarm', aspect='auto')\n",
    "            # plt.matshow(coef)\n",
    "    return coefs"
   ],
   "metadata": {
    "id": "7PDPhZUSlqUe",
    "pycharm": {
     "name": "#%%\n"
    }
   },
   "execution_count": null,
   "outputs": []
  },
  {
   "cell_type": "markdown",
   "source": [
    "# Utility functions"
   ],
   "metadata": {
    "id": "sIGsUNqTzd9a",
    "pycharm": {
     "name": "#%% md\n"
    }
   }
  },
  {
   "cell_type": "code",
   "source": [
    "def convert_labels(labels):\n",
    "    instruments = ['cel', 'cla', 'flu', 'gac', 'gel', 'org', 'pia', 'sax', 'tru', 'vio', 'voi']\n",
    "    for index, instrument in enumerate(instruments):\n",
    "        labels = [index if label == instrument else label for label in labels]\n",
    "    return labels\n",
    "\n",
    "\n",
    "def time_passed(t):\n",
    "    now = time.time()\n",
    "    print('Time passed: {} seconds.'.format(now - t))\n",
    "    return now"
   ],
   "metadata": {
    "id": "QU97IKDFxnv7",
    "pycharm": {
     "name": "#%%\n"
    }
   },
   "execution_count": null,
   "outputs": []
  },
  {
   "cell_type": "markdown",
   "source": [
    "# Process data"
   ],
   "metadata": {
    "id": "14ZsNSIg0AJO",
    "pycharm": {
     "name": "#%% md\n"
    }
   }
  },
  {
   "cell_type": "code",
   "source": [
    "t = time.time()\n",
    "\n",
    "train_dir = '../dataset/IRMAS-TrainingData'\n",
    "\n",
    "X_train, y_train = read_train_data(train_dir)\n",
    "y_train = convert_labels(y_train)\n",
    "y_train = tf.keras.utils.to_categorical(y_train, 11)\n",
    "np.save('../dataset/X_train_data.npy', X_train)\n",
    "np.save('../dataset/y_train_data.npy', y_train)\n",
    "\n",
    "t = time_passed(t)"
   ],
   "metadata": {
    "colab": {
     "base_uri": "https://localhost:8080/"
    },
    "id": "MZTepoS8tCFH",
    "outputId": "2f5e862e-db0e-4cbb-b477-2a16562f21b2",
    "pycharm": {
     "name": "#%%\n"
    }
   },
   "execution_count": null,
   "outputs": [
    {
     "output_type": "stream",
     "name": "stdout",
     "text": [
      "Time passed: 1.2632086277008057 seconds.\n"
     ]
    }
   ]
  },
  {
   "cell_type": "code",
   "source": [
    "test_dir = './dataset/IRMAS-TestingData'\n",
    "\n",
    "X_test, y_test = read_test_data(test_dir)\n",
    "y_test = convert_labels(y_test)\n",
    "y_test = tf.keras.utils.to_categorical(y_test, 11)\n",
    "np.save('./dataset/Χ_test_data.npy', X_test)\n",
    "np.save('./dataset/y_test_data.npy', y_test)\n",
    "\n",
    "t = time_passed(t)"
   ],
   "metadata": {
    "id": "3zw2XOHUowmB",
    "pycharm": {
     "name": "#%%\n"
    }
   },
   "execution_count": null,
   "outputs": []
  },
  {
   "cell_type": "code",
   "source": [
    "train_dir = './dataset/IRMAS-TrainingData'\n",
    "\n",
    "X_train, y_train = read_train_data(train_dir, scalogram=True)\n",
    "y_train = convert_labels(y_train)\n",
    "y_train = tf.keras.utils.to_categorical(y_train, 11)\n",
    "np.save('./dataset/X_train_scalogram_data.npy', X_train)\n",
    "np.save('./dataset/y_train_scalogram_data.npy', y_train)\n",
    "\n",
    "t = time_passed(t)"
   ],
   "metadata": {
    "id": "rxR4cgDxlO1-",
    "pycharm": {
     "name": "#%%\n"
    }
   },
   "execution_count": null,
   "outputs": []
  },
  {
   "cell_type": "code",
   "source": [
    "test_dir = './dataset/IRMAS-TestingData'\n",
    "\n",
    "X_test, y_test = read_test_data(test_dir, scalogram=True)\n",
    "y_test = convert_labels(y_test)\n",
    "y_test = tf.keras.utils.to_categorical(y_test, 11)\n",
    "np.save('./dataset/X_test_scalogram_data.npy', X_test)\n",
    "np.save('./dataset/y_test_scalogram_data.npy', y_test)\n",
    "\n",
    "t = time_passed(t)"
   ],
   "metadata": {
    "id": "oSswjGz4lOoX",
    "pycharm": {
     "name": "#%%\n"
    }
   },
   "execution_count": null,
   "outputs": []
  }
 ]
}