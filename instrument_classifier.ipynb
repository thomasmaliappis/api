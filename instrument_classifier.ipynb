{
 "nbformat": 4,
 "nbformat_minor": 0,
 "metadata": {
  "colab": {
   "name": "instrument_classifier.ipynb",
   "provenance": [],
   "collapsed_sections": [
    "QQHIifuczbmZ",
    "YZ_6RL6azhrb"
   ],
   "machine_shape": "hm"
  },
  "kernelspec": {
   "name": "python3",
   "display_name": "Python 3"
  },
  "language_info": {
   "name": "python"
  },
  "accelerator": "GPU"
 },
 "cells": [
  {
   "cell_type": "code",
   "execution_count": null,
   "metadata": {
    "id": "l1HlSlfepr24",
    "pycharm": {
     "name": "#%%\n"
    }
   },
   "outputs": [],
   "source": [
    "import ntpath\n",
    "import os\n",
    "import time\n",
    "\n",
    "import librosa\n",
    "import librosa.display\n",
    "import matplotlib.pyplot as plt\n",
    "import numpy as np\n",
    "import tensorflow as tf\n",
    "from keras import layers\n",
    "from tensorflow import keras"
   ]
  },
  {
   "cell_type": "markdown",
   "source": [
    "# Utility functions"
   ],
   "metadata": {
    "id": "sIGsUNqTzd9a",
    "pycharm": {
     "name": "#%% md\n"
    }
   }
  },
  {
   "cell_type": "code",
   "source": [
    "def convert_labels(labels):\n",
    "    instruments = ['cel', 'cla', 'flu', 'gac', 'gel', 'org', 'pia', 'sax', 'tru', 'vio', 'voi']\n",
    "    for index, instrument in enumerate(instruments):\n",
    "        labels = [index if label == instrument else label for label in labels]\n",
    "    return labels\n",
    "\n",
    "def reconvert_labels(labels):\n",
    "    instruments = ['cel', 'cla', 'flu', 'gac', 'gel', 'org', 'pia', 'sax', 'tru', 'vio', 'voi']\n",
    "    return np.asarray([instruments[label] for label in labels])\n",
    "\n",
    "def time_passed(t):\n",
    "    now = time.time()\n",
    "    print('Time passed: {} seconds.'.format(now - t))\n",
    "    return now"
   ],
   "metadata": {
    "id": "QU97IKDFxnv7",
    "pycharm": {
     "name": "#%%\n"
    }
   },
   "execution_count": null,
   "outputs": []
  },
  {
   "cell_type": "markdown",
   "source": [
    "# Read data"
   ],
   "metadata": {
    "id": "14ZsNSIg0AJO",
    "pycharm": {
     "name": "#%% md\n"
    }
   }
  },
  {
   "cell_type": "code",
   "source": [
    "t = time.time()\n",
    "\n",
    "X_train = np.load('./dataset/X_train_data.npy', allow_pickle=True)\n",
    "y_train = np.load('./dataset/y_train_data.npy', allow_pickle=True)\n",
    "print(y_train.shape[0])\n",
    "t = time_passed(t)\n",
    "print(X_train.shape)"
   ],
   "metadata": {
    "id": "MZTepoS8tCFH",
    "colab": {
     "base_uri": "https://localhost:8080/"
    },
    "outputId": "9a829177-b22f-4d54-a09e-bfc1fc791dfb",
    "pycharm": {
     "name": "#%%\n"
    }
   },
   "execution_count": null,
   "outputs": [
    {
     "output_type": "stream",
     "name": "stdout",
     "text": [
      "20115\n",
      "Time passed: 7.749913215637207 seconds.\n",
      "(20115, 128, 87)\n"
     ]
    }
   ]
  },
  {
   "cell_type": "code",
   "source": [
    "X_test = np.load('./dataset/X_test_data.npy', allow_pickle=True)\n",
    "y_test = np.load('./dataset/y_test_data.npy', allow_pickle=True)\n",
    "print(y_test.shape[0])\n",
    "t = time_passed(t)\n",
    "print(X_test.shape)"
   ],
   "metadata": {
    "colab": {
     "base_uri": "https://localhost:8080/"
    },
    "id": "3zw2XOHUowmB",
    "outputId": "adc962a1-3d6d-4b1e-951a-983c96bed4fa",
    "pycharm": {
     "name": "#%%\n"
    }
   },
   "execution_count": null,
   "outputs": [
    {
     "output_type": "stream",
     "name": "stdout",
     "text": [
      "45661\n",
      "Time passed: 17.201735734939575 seconds.\n",
      "(45661, 128, 87)\n"
     ]
    }
   ]
  },
  {
   "cell_type": "code",
   "source": [
    "X_train = np.reshape(X_train, [-1, 128, 87, 1])\n",
    "X_test = np.reshape(X_test, [-1, 128, 87, 1])\n",
    "t = time_passed(t)"
   ],
   "metadata": {
    "id": "_kp7qhz_2gr9",
    "colab": {
     "base_uri": "https://localhost:8080/"
    },
    "outputId": "530113ba-b359-4abd-be18-911f740aaea3",
    "pycharm": {
     "name": "#%%\n"
    }
   },
   "execution_count": null,
   "outputs": [
    {
     "output_type": "stream",
     "name": "stdout",
     "text": [
      "Time passed: 0.008810997009277344 seconds.\n"
     ]
    }
   ]
  },
  {
   "cell_type": "code",
   "source": [
    "X = np.concatenate((X_train, X_test), axis=0)\n",
    "y = np.concatenate((y_train, y_test), axis=0)"
   ],
   "metadata": {
    "id": "cT8uV37ZaWaE",
    "pycharm": {
     "name": "#%%\n"
    }
   },
   "execution_count": null,
   "outputs": []
  },
  {
   "cell_type": "code",
   "source": [
    "print(X.shape)\n",
    "y.shape"
   ],
   "metadata": {
    "colab": {
     "base_uri": "https://localhost:8080/"
    },
    "id": "7Qos7G34bFGi",
    "outputId": "d8593940-29ad-4e60-94ca-68004d939d71",
    "pycharm": {
     "name": "#%%\n"
    }
   },
   "execution_count": null,
   "outputs": [
    {
     "output_type": "stream",
     "name": "stdout",
     "text": [
      "(65776, 128, 87, 1)\n"
     ]
    },
    {
     "output_type": "execute_result",
     "data": {
      "text/plain": [
       "(65776, 11)"
      ]
     },
     "metadata": {},
     "execution_count": 8
    }
   ]
  },
  {
   "cell_type": "code",
   "source": [
    "randomize = np.arange(len(y))\n",
    "\n",
    "np.random.shuffle(randomize)\n",
    "\n",
    "X = X[randomize]\n",
    "y = y[randomize]"
   ],
   "metadata": {
    "id": "28HcXvH9rZhw",
    "pycharm": {
     "name": "#%%\n"
    }
   },
   "execution_count": null,
   "outputs": []
  },
  {
   "cell_type": "code",
   "source": [
    "X_train = X[:30000]\n",
    "y_train = y[:30000]\n",
    "X_test = X[30000:]\n",
    "y_test = y[30000:]"
   ],
   "metadata": {
    "id": "KFlV4aKxAgVR",
    "pycharm": {
     "name": "#%%\n"
    }
   },
   "execution_count": null,
   "outputs": []
  },
  {
   "cell_type": "code",
   "source": [
    "y_train_classes = np.argmax(y_train, axis=-1)\n",
    "y_train_classes = reconvert_labels(y_train_classes)\n",
    "unique, counts = np.unique(y_train_classes, return_counts=True)\n",
    "print(np.asarray((unique, counts)).T)"
   ],
   "metadata": {
    "colab": {
     "base_uri": "https://localhost:8080/"
    },
    "id": "f9vOJpwWid3W",
    "outputId": "31320a9a-5b12-4e8b-bec2-f05886cf1067",
    "pycharm": {
     "name": "#%%\n"
    }
   },
   "execution_count": null,
   "outputs": [
    {
     "output_type": "stream",
     "name": "stdout",
     "text": [
      "[['cel' '1360']\n",
      " ['cla' '1141']\n",
      " ['flu' '1672']\n",
      " ['gac' '4445']\n",
      " ['gel' '6907']\n",
      " ['org' '1741']\n",
      " ['pia' '6750']\n",
      " ['sax' '942']\n",
      " ['tru' '880']\n",
      " ['vio' '1223']\n",
      " ['voi' '2939']]\n"
     ]
    }
   ]
  },
  {
   "cell_type": "code",
   "source": [
    "y_test_classes = np.argmax(y_test, axis=-1)\n",
    "y_test_classes = reconvert_labels(y_test_classes)\n",
    "unique, counts = np.unique(y_test_classes, return_counts=True)\n",
    "print(np.asarray((unique, counts)).T)"
   ],
   "metadata": {
    "colab": {
     "base_uri": "https://localhost:8080/"
    },
    "id": "E4BEFQz6k47N",
    "outputId": "38244433-aae4-47f3-d021-76527ee17a27",
    "pycharm": {
     "name": "#%%\n"
    }
   },
   "execution_count": null,
   "outputs": [
    {
     "output_type": "stream",
     "name": "stdout",
     "text": [
      "[['cel' '1648']\n",
      " ['cla' '1319']\n",
      " ['flu' '2023']\n",
      " ['gac' '5272']\n",
      " ['gel' '8183']\n",
      " ['org' '2212']\n",
      " ['pia' '8131']\n",
      " ['sax' '1063']\n",
      " ['tru' '1031']\n",
      " ['vio' '1406']\n",
      " ['voi' '3488']]\n"
     ]
    }
   ]
  },
  {
   "cell_type": "markdown",
   "source": [
    "# CNN Network"
   ],
   "metadata": {
    "id": "YZ_6RL6azhrb",
    "pycharm": {
     "name": "#%% md\n"
    }
   }
  },
  {
   "cell_type": "code",
   "source": [
    "def create_model(input_shape, output_shape):\n",
    "    model = keras.Sequential()\n",
    "  \n",
    "    model.add(layers.Conv2D(32, kernel_size=(3, 3), activation='relu', padding='same', input_shape=input_shape))\n",
    "    model.add(layers.MaxPooling2D(pool_size=(3, 3)))\n",
    "    model.add(layers.Dropout(0.25))\n",
    "\n",
    "    model.add(layers.Conv2D(64, kernel_size=(3, 3), activation='relu', padding='same'))\n",
    "    model.add(layers.MaxPooling2D(pool_size=(3, 3)))\n",
    "    model.add(layers.Dropout(0.25))\n",
    "\n",
    "    model.add(layers.Conv2D(128, kernel_size=(3, 3), activation='relu', padding='same'))\n",
    "    model.add(layers.MaxPooling2D(pool_size=(3, 3)))\n",
    "    model.add(layers.Dropout(0.25))\n",
    "\n",
    "    model.add(layers.Conv2D(256, kernel_size=(3, 3), activation='relu', padding='same'))\n",
    "    model.add(layers.MaxPooling2D(pool_size=(3, 3)))\n",
    "    model.add(layers.Dropout(0.25))\n",
    "\n",
    "    model.add(layers.Flatten())\n",
    "    model.add(layers.Dense(512, activation='relu'))\n",
    "    model.add(layers.Dropout(0.25))\n",
    "    model.add(layers.Dense(512, activation='relu'))\n",
    "    model.add(layers.Dropout(0.5))\n",
    "    model.add(layers.Dense(output_shape, activation='softmax'))\n",
    "\n",
    "    return model"
   ],
   "metadata": {
    "id": "mzUOtFnjxlRX",
    "pycharm": {
     "name": "#%%\n"
    }
   },
   "execution_count": null,
   "outputs": []
  },
  {
   "cell_type": "code",
   "source": [
    "model = create_model((128, 87, 1), 11)\n",
    "model.summary()\n",
    "t = time_passed(t)"
   ],
   "metadata": {
    "id": "XbIrl_u12krq",
    "colab": {
     "base_uri": "https://localhost:8080/"
    },
    "outputId": "6be38ce7-d663-4bb5-de8e-b76fdddf2461",
    "pycharm": {
     "name": "#%%\n"
    }
   },
   "execution_count": null,
   "outputs": [
    {
     "output_type": "stream",
     "name": "stdout",
     "text": [
      "Model: \"sequential\"\n",
      "_________________________________________________________________\n",
      " Layer (type)                Output Shape              Param #   \n",
      "=================================================================\n",
      " conv2d (Conv2D)             (None, 128, 87, 32)       320       \n",
      "                                                                 \n",
      " max_pooling2d (MaxPooling2D  (None, 42, 29, 32)       0         \n",
      " )                                                               \n",
      "                                                                 \n",
      " dropout (Dropout)           (None, 42, 29, 32)        0         \n",
      "                                                                 \n",
      " conv2d_1 (Conv2D)           (None, 42, 29, 64)        18496     \n",
      "                                                                 \n",
      " max_pooling2d_1 (MaxPooling  (None, 14, 9, 64)        0         \n",
      " 2D)                                                             \n",
      "                                                                 \n",
      " dropout_1 (Dropout)         (None, 14, 9, 64)         0         \n",
      "                                                                 \n",
      " conv2d_2 (Conv2D)           (None, 14, 9, 128)        73856     \n",
      "                                                                 \n",
      " max_pooling2d_2 (MaxPooling  (None, 4, 3, 128)        0         \n",
      " 2D)                                                             \n",
      "                                                                 \n",
      " dropout_2 (Dropout)         (None, 4, 3, 128)         0         \n",
      "                                                                 \n",
      " conv2d_3 (Conv2D)           (None, 4, 3, 256)         295168    \n",
      "                                                                 \n",
      " max_pooling2d_3 (MaxPooling  (None, 1, 1, 256)        0         \n",
      " 2D)                                                             \n",
      "                                                                 \n",
      " dropout_3 (Dropout)         (None, 1, 1, 256)         0         \n",
      "                                                                 \n",
      " flatten (Flatten)           (None, 256)               0         \n",
      "                                                                 \n",
      " dense (Dense)               (None, 512)               131584    \n",
      "                                                                 \n",
      " dropout_4 (Dropout)         (None, 512)               0         \n",
      "                                                                 \n",
      " dense_1 (Dense)             (None, 512)               262656    \n",
      "                                                                 \n",
      " dropout_5 (Dropout)         (None, 512)               0         \n",
      "                                                                 \n",
      " dense_2 (Dense)             (None, 11)                5643      \n",
      "                                                                 \n",
      "=================================================================\n",
      "Total params: 787,723\n",
      "Trainable params: 787,723\n",
      "Non-trainable params: 0\n",
      "_________________________________________________________________\n",
      "Time passed: 6.729798078536987 seconds.\n"
     ]
    }
   ]
  },
  {
   "cell_type": "markdown",
   "source": [
    "# Train model"
   ],
   "metadata": {
    "id": "YWT3n009yEas",
    "pycharm": {
     "name": "#%% md\n"
    }
   }
  },
  {
   "cell_type": "code",
   "source": [
    "opt = keras.optimizers.Adam(learning_rate=0.0001, beta_1=0.9, beta_2=0.999, epsilon=None, decay=0.0, amsgrad=False)\n",
    "\n",
    "model.compile(loss='categorical_crossentropy',\n",
    "              optimizer=opt,\n",
    "              metrics=['accuracy'])\n",
    "\n",
    "history = model.fit(X_train, y_train,\n",
    "                    epochs=200,\n",
    "                    validation_data=(X_test, y_test))\n",
    "t = time_passed(t)"
   ],
   "metadata": {
    "id": "9r8v0aJmtGzl",
    "colab": {
     "base_uri": "https://localhost:8080/"
    },
    "outputId": "d46e66dc-375c-4c40-ec6f-d59aaf561737",
    "pycharm": {
     "name": "#%%\n"
    }
   },
   "execution_count": null,
   "outputs": [
    {
     "output_type": "stream",
     "name": "stdout",
     "text": [
      "Epoch 1/200\n",
      "938/938 [==============================] - 22s 12ms/step - loss: 2.4024 - accuracy: 0.2264 - val_loss: 2.2671 - val_accuracy: 0.2273\n",
      "Epoch 2/200\n",
      "938/938 [==============================] - 10s 10ms/step - loss: 2.0257 - accuracy: 0.3182 - val_loss: 2.1867 - val_accuracy: 0.3346\n",
      "Epoch 3/200\n",
      "938/938 [==============================] - 10s 10ms/step - loss: 1.9726 - accuracy: 0.3299 - val_loss: 2.1757 - val_accuracy: 0.3168\n",
      "Epoch 4/200\n",
      "938/938 [==============================] - 10s 10ms/step - loss: 1.9403 - accuracy: 0.3430 - val_loss: 2.1013 - val_accuracy: 0.3028\n",
      "Epoch 5/200\n",
      "938/938 [==============================] - 10s 10ms/step - loss: 1.9084 - accuracy: 0.3540 - val_loss: 2.0715 - val_accuracy: 0.2842\n",
      "Epoch 6/200\n",
      "938/938 [==============================] - 10s 11ms/step - loss: 1.8771 - accuracy: 0.3688 - val_loss: 2.0130 - val_accuracy: 0.3581\n",
      "Epoch 7/200\n",
      "938/938 [==============================] - 10s 10ms/step - loss: 1.8501 - accuracy: 0.3785 - val_loss: 1.9950 - val_accuracy: 0.3188\n",
      "Epoch 8/200\n",
      "938/938 [==============================] - 10s 11ms/step - loss: 1.8245 - accuracy: 0.3925 - val_loss: 1.9745 - val_accuracy: 0.3430\n",
      "Epoch 9/200\n",
      "938/938 [==============================] - 10s 11ms/step - loss: 1.7876 - accuracy: 0.4075 - val_loss: 1.8843 - val_accuracy: 0.3926\n",
      "Epoch 10/200\n",
      "938/938 [==============================] - 10s 11ms/step - loss: 1.7453 - accuracy: 0.4233 - val_loss: 1.8165 - val_accuracy: 0.4263\n",
      "Epoch 11/200\n",
      "938/938 [==============================] - 10s 11ms/step - loss: 1.6939 - accuracy: 0.4408 - val_loss: 1.7557 - val_accuracy: 0.4401\n",
      "Epoch 12/200\n",
      "938/938 [==============================] - 10s 10ms/step - loss: 1.6483 - accuracy: 0.4533 - val_loss: 1.6643 - val_accuracy: 0.4717\n",
      "Epoch 13/200\n",
      "938/938 [==============================] - 10s 10ms/step - loss: 1.5917 - accuracy: 0.4743 - val_loss: 1.5757 - val_accuracy: 0.4978\n",
      "Epoch 14/200\n",
      "938/938 [==============================] - 10s 11ms/step - loss: 1.5420 - accuracy: 0.4929 - val_loss: 1.5571 - val_accuracy: 0.5093\n",
      "Epoch 15/200\n",
      "938/938 [==============================] - 10s 10ms/step - loss: 1.5056 - accuracy: 0.5021 - val_loss: 1.4959 - val_accuracy: 0.5315\n",
      "Epoch 16/200\n",
      "938/938 [==============================] - 10s 10ms/step - loss: 1.4751 - accuracy: 0.5130 - val_loss: 1.4768 - val_accuracy: 0.5325\n",
      "Epoch 17/200\n",
      "938/938 [==============================] - 10s 10ms/step - loss: 1.4408 - accuracy: 0.5254 - val_loss: 1.4007 - val_accuracy: 0.5510\n",
      "Epoch 18/200\n",
      "938/938 [==============================] - 10s 10ms/step - loss: 1.4086 - accuracy: 0.5356 - val_loss: 1.4135 - val_accuracy: 0.5575\n",
      "Epoch 19/200\n",
      "938/938 [==============================] - 10s 11ms/step - loss: 1.3749 - accuracy: 0.5457 - val_loss: 1.3534 - val_accuracy: 0.5846\n",
      "Epoch 20/200\n",
      "938/938 [==============================] - 10s 10ms/step - loss: 1.3572 - accuracy: 0.5539 - val_loss: 1.3126 - val_accuracy: 0.5933\n",
      "Epoch 21/200\n",
      "938/938 [==============================] - 10s 11ms/step - loss: 1.3200 - accuracy: 0.5640 - val_loss: 1.3277 - val_accuracy: 0.5782\n",
      "Epoch 22/200\n",
      "938/938 [==============================] - 10s 11ms/step - loss: 1.3075 - accuracy: 0.5701 - val_loss: 1.2582 - val_accuracy: 0.6011\n",
      "Epoch 23/200\n",
      "938/938 [==============================] - 10s 10ms/step - loss: 1.2790 - accuracy: 0.5753 - val_loss: 1.2381 - val_accuracy: 0.6153\n",
      "Epoch 24/200\n",
      "938/938 [==============================] - 10s 10ms/step - loss: 1.2532 - accuracy: 0.5867 - val_loss: 1.2086 - val_accuracy: 0.6163\n",
      "Epoch 25/200\n",
      "938/938 [==============================] - 10s 10ms/step - loss: 1.2278 - accuracy: 0.5945 - val_loss: 1.1442 - val_accuracy: 0.6296\n",
      "Epoch 26/200\n",
      "938/938 [==============================] - 10s 10ms/step - loss: 1.2111 - accuracy: 0.5981 - val_loss: 1.1664 - val_accuracy: 0.6334\n",
      "Epoch 27/200\n",
      "938/938 [==============================] - 10s 10ms/step - loss: 1.1800 - accuracy: 0.6095 - val_loss: 1.1381 - val_accuracy: 0.6374\n",
      "Epoch 28/200\n",
      "938/938 [==============================] - 10s 10ms/step - loss: 1.1681 - accuracy: 0.6167 - val_loss: 1.1344 - val_accuracy: 0.6425\n",
      "Epoch 29/200\n",
      "938/938 [==============================] - 10s 10ms/step - loss: 1.1569 - accuracy: 0.6172 - val_loss: 1.1052 - val_accuracy: 0.6424\n",
      "Epoch 30/200\n",
      "938/938 [==============================] - 10s 10ms/step - loss: 1.1323 - accuracy: 0.6241 - val_loss: 1.1242 - val_accuracy: 0.6438\n",
      "Epoch 31/200\n",
      "938/938 [==============================] - 10s 10ms/step - loss: 1.1159 - accuracy: 0.6290 - val_loss: 1.0453 - val_accuracy: 0.6627\n",
      "Epoch 32/200\n",
      "938/938 [==============================] - 10s 10ms/step - loss: 1.0962 - accuracy: 0.6384 - val_loss: 1.0434 - val_accuracy: 0.6682\n",
      "Epoch 33/200\n",
      "938/938 [==============================] - 10s 10ms/step - loss: 1.0858 - accuracy: 0.6400 - val_loss: 1.0218 - val_accuracy: 0.6812\n",
      "Epoch 34/200\n",
      "938/938 [==============================] - 10s 10ms/step - loss: 1.0677 - accuracy: 0.6448 - val_loss: 1.0147 - val_accuracy: 0.6768\n",
      "Epoch 35/200\n",
      "938/938 [==============================] - 10s 10ms/step - loss: 1.0527 - accuracy: 0.6516 - val_loss: 1.0073 - val_accuracy: 0.6775\n",
      "Epoch 36/200\n",
      "938/938 [==============================] - 10s 10ms/step - loss: 1.0344 - accuracy: 0.6556 - val_loss: 0.9938 - val_accuracy: 0.6811\n",
      "Epoch 37/200\n",
      "938/938 [==============================] - 10s 10ms/step - loss: 1.0190 - accuracy: 0.6634 - val_loss: 0.9683 - val_accuracy: 0.6930\n",
      "Epoch 38/200\n",
      "938/938 [==============================] - 10s 10ms/step - loss: 1.0077 - accuracy: 0.6668 - val_loss: 0.9350 - val_accuracy: 0.6987\n",
      "Epoch 39/200\n",
      "938/938 [==============================] - 10s 10ms/step - loss: 0.9927 - accuracy: 0.6729 - val_loss: 0.9572 - val_accuracy: 0.6923\n",
      "Epoch 40/200\n",
      "938/938 [==============================] - 10s 10ms/step - loss: 0.9761 - accuracy: 0.6813 - val_loss: 0.9378 - val_accuracy: 0.6942\n",
      "Epoch 41/200\n",
      "938/938 [==============================] - 10s 10ms/step - loss: 0.9678 - accuracy: 0.6796 - val_loss: 0.9042 - val_accuracy: 0.7056\n",
      "Epoch 42/200\n",
      "938/938 [==============================] - 10s 10ms/step - loss: 0.9579 - accuracy: 0.6817 - val_loss: 0.9211 - val_accuracy: 0.7057\n",
      "Epoch 43/200\n",
      "938/938 [==============================] - 10s 10ms/step - loss: 0.9430 - accuracy: 0.6886 - val_loss: 0.8854 - val_accuracy: 0.7173\n",
      "Epoch 44/200\n",
      "938/938 [==============================] - 10s 11ms/step - loss: 0.9322 - accuracy: 0.6931 - val_loss: 0.8709 - val_accuracy: 0.7176\n",
      "Epoch 45/200\n",
      "938/938 [==============================] - 10s 11ms/step - loss: 0.9228 - accuracy: 0.6947 - val_loss: 0.8766 - val_accuracy: 0.7174\n",
      "Epoch 46/200\n",
      "938/938 [==============================] - 10s 11ms/step - loss: 0.9128 - accuracy: 0.6978 - val_loss: 0.8781 - val_accuracy: 0.7160\n",
      "Epoch 47/200\n",
      "938/938 [==============================] - 10s 11ms/step - loss: 0.8951 - accuracy: 0.7031 - val_loss: 0.8593 - val_accuracy: 0.7197\n",
      "Epoch 48/200\n",
      "938/938 [==============================] - 10s 10ms/step - loss: 0.8899 - accuracy: 0.7056 - val_loss: 0.8531 - val_accuracy: 0.7172\n",
      "Epoch 49/200\n",
      "938/938 [==============================] - 10s 10ms/step - loss: 0.8784 - accuracy: 0.7084 - val_loss: 0.8404 - val_accuracy: 0.7297\n",
      "Epoch 50/200\n",
      "938/938 [==============================] - 10s 10ms/step - loss: 0.8670 - accuracy: 0.7117 - val_loss: 0.8340 - val_accuracy: 0.7266\n",
      "Epoch 51/200\n",
      "938/938 [==============================] - 10s 10ms/step - loss: 0.8581 - accuracy: 0.7152 - val_loss: 0.8247 - val_accuracy: 0.7298\n",
      "Epoch 52/200\n",
      "938/938 [==============================] - 10s 10ms/step - loss: 0.8475 - accuracy: 0.7196 - val_loss: 0.8007 - val_accuracy: 0.7395\n",
      "Epoch 53/200\n",
      "938/938 [==============================] - 10s 10ms/step - loss: 0.8425 - accuracy: 0.7177 - val_loss: 0.8042 - val_accuracy: 0.7351\n",
      "Epoch 54/200\n",
      "938/938 [==============================] - 10s 10ms/step - loss: 0.8322 - accuracy: 0.7258 - val_loss: 0.7948 - val_accuracy: 0.7455\n",
      "Epoch 55/200\n",
      "938/938 [==============================] - 10s 10ms/step - loss: 0.8245 - accuracy: 0.7242 - val_loss: 0.7801 - val_accuracy: 0.7443\n",
      "Epoch 56/200\n",
      "938/938 [==============================] - 10s 10ms/step - loss: 0.8136 - accuracy: 0.7301 - val_loss: 0.7834 - val_accuracy: 0.7442\n",
      "Epoch 57/200\n",
      "938/938 [==============================] - 10s 10ms/step - loss: 0.7938 - accuracy: 0.7348 - val_loss: 0.7774 - val_accuracy: 0.7467\n",
      "Epoch 58/200\n",
      "938/938 [==============================] - 10s 10ms/step - loss: 0.7899 - accuracy: 0.7373 - val_loss: 0.7944 - val_accuracy: 0.7404\n",
      "Epoch 59/200\n",
      "938/938 [==============================] - 10s 10ms/step - loss: 0.7886 - accuracy: 0.7341 - val_loss: 0.7521 - val_accuracy: 0.7510\n",
      "Epoch 60/200\n",
      "938/938 [==============================] - 10s 10ms/step - loss: 0.7800 - accuracy: 0.7435 - val_loss: 0.7554 - val_accuracy: 0.7524\n",
      "Epoch 61/200\n",
      "938/938 [==============================] - 10s 10ms/step - loss: 0.7740 - accuracy: 0.7419 - val_loss: 0.7560 - val_accuracy: 0.7558\n",
      "Epoch 62/200\n",
      "938/938 [==============================] - 10s 10ms/step - loss: 0.7605 - accuracy: 0.7464 - val_loss: 0.7453 - val_accuracy: 0.7550\n",
      "Epoch 63/200\n",
      "938/938 [==============================] - 10s 10ms/step - loss: 0.7580 - accuracy: 0.7485 - val_loss: 0.7390 - val_accuracy: 0.7601\n",
      "Epoch 64/200\n",
      "938/938 [==============================] - 10s 10ms/step - loss: 0.7492 - accuracy: 0.7518 - val_loss: 0.7278 - val_accuracy: 0.7620\n",
      "Epoch 65/200\n",
      "938/938 [==============================] - 10s 10ms/step - loss: 0.7422 - accuracy: 0.7526 - val_loss: 0.7260 - val_accuracy: 0.7644\n",
      "Epoch 66/200\n",
      "938/938 [==============================] - 10s 10ms/step - loss: 0.7355 - accuracy: 0.7531 - val_loss: 0.7118 - val_accuracy: 0.7680\n",
      "Epoch 67/200\n",
      "938/938 [==============================] - 10s 10ms/step - loss: 0.7182 - accuracy: 0.7599 - val_loss: 0.7187 - val_accuracy: 0.7629\n",
      "Epoch 68/200\n",
      "938/938 [==============================] - 10s 10ms/step - loss: 0.7137 - accuracy: 0.7612 - val_loss: 0.7160 - val_accuracy: 0.7669\n",
      "Epoch 69/200\n",
      "938/938 [==============================] - 10s 10ms/step - loss: 0.7146 - accuracy: 0.7620 - val_loss: 0.7203 - val_accuracy: 0.7648\n",
      "Epoch 70/200\n",
      "938/938 [==============================] - 10s 10ms/step - loss: 0.7024 - accuracy: 0.7666 - val_loss: 0.7039 - val_accuracy: 0.7714\n",
      "Epoch 71/200\n",
      "938/938 [==============================] - 10s 10ms/step - loss: 0.7005 - accuracy: 0.7639 - val_loss: 0.7033 - val_accuracy: 0.7691\n",
      "Epoch 72/200\n",
      "938/938 [==============================] - 10s 11ms/step - loss: 0.6899 - accuracy: 0.7670 - val_loss: 0.6936 - val_accuracy: 0.7728\n",
      "Epoch 73/200\n",
      "938/938 [==============================] - 10s 10ms/step - loss: 0.6875 - accuracy: 0.7692 - val_loss: 0.6914 - val_accuracy: 0.7722\n",
      "Epoch 74/200\n",
      "938/938 [==============================] - 10s 10ms/step - loss: 0.6830 - accuracy: 0.7707 - val_loss: 0.7127 - val_accuracy: 0.7672\n",
      "Epoch 75/200\n",
      "938/938 [==============================] - 10s 10ms/step - loss: 0.6760 - accuracy: 0.7734 - val_loss: 0.6887 - val_accuracy: 0.7782\n",
      "Epoch 76/200\n",
      "938/938 [==============================] - 10s 10ms/step - loss: 0.6756 - accuracy: 0.7745 - val_loss: 0.7065 - val_accuracy: 0.7694\n",
      "Epoch 77/200\n",
      "938/938 [==============================] - 10s 11ms/step - loss: 0.6673 - accuracy: 0.7779 - val_loss: 0.6692 - val_accuracy: 0.7815\n",
      "Epoch 78/200\n",
      "938/938 [==============================] - 10s 11ms/step - loss: 0.6557 - accuracy: 0.7784 - val_loss: 0.6687 - val_accuracy: 0.7819\n",
      "Epoch 79/200\n",
      "938/938 [==============================] - 10s 10ms/step - loss: 0.6557 - accuracy: 0.7783 - val_loss: 0.6607 - val_accuracy: 0.7838\n",
      "Epoch 80/200\n",
      "938/938 [==============================] - 10s 10ms/step - loss: 0.6462 - accuracy: 0.7852 - val_loss: 0.6619 - val_accuracy: 0.7847\n",
      "Epoch 81/200\n",
      "938/938 [==============================] - 10s 10ms/step - loss: 0.6508 - accuracy: 0.7833 - val_loss: 0.6697 - val_accuracy: 0.7790\n",
      "Epoch 82/200\n",
      "938/938 [==============================] - 10s 10ms/step - loss: 0.6455 - accuracy: 0.7825 - val_loss: 0.6693 - val_accuracy: 0.7825\n",
      "Epoch 83/200\n",
      "938/938 [==============================] - 10s 10ms/step - loss: 0.6241 - accuracy: 0.7904 - val_loss: 0.6539 - val_accuracy: 0.7861\n",
      "Epoch 84/200\n",
      "938/938 [==============================] - 10s 10ms/step - loss: 0.6282 - accuracy: 0.7889 - val_loss: 0.6765 - val_accuracy: 0.7774\n",
      "Epoch 85/200\n",
      "938/938 [==============================] - 10s 11ms/step - loss: 0.6220 - accuracy: 0.7904 - val_loss: 0.6563 - val_accuracy: 0.7852\n",
      "Epoch 86/200\n",
      "938/938 [==============================] - 10s 10ms/step - loss: 0.6200 - accuracy: 0.7938 - val_loss: 0.6539 - val_accuracy: 0.7866\n",
      "Epoch 87/200\n",
      "938/938 [==============================] - 10s 10ms/step - loss: 0.6124 - accuracy: 0.7944 - val_loss: 0.7029 - val_accuracy: 0.7718\n",
      "Epoch 88/200\n",
      "938/938 [==============================] - 10s 10ms/step - loss: 0.6108 - accuracy: 0.7954 - val_loss: 0.6410 - val_accuracy: 0.7879\n",
      "Epoch 89/200\n",
      "938/938 [==============================] - 10s 10ms/step - loss: 0.6043 - accuracy: 0.7988 - val_loss: 0.6345 - val_accuracy: 0.7928\n",
      "Epoch 90/200\n",
      "938/938 [==============================] - 10s 10ms/step - loss: 0.5914 - accuracy: 0.8010 - val_loss: 0.6562 - val_accuracy: 0.7887\n",
      "Epoch 91/200\n",
      "938/938 [==============================] - 10s 10ms/step - loss: 0.6008 - accuracy: 0.7980 - val_loss: 0.6281 - val_accuracy: 0.7942\n",
      "Epoch 92/200\n",
      "938/938 [==============================] - 10s 10ms/step - loss: 0.5938 - accuracy: 0.8019 - val_loss: 0.6665 - val_accuracy: 0.7814\n",
      "Epoch 93/200\n",
      "938/938 [==============================] - 10s 10ms/step - loss: 0.5940 - accuracy: 0.8004 - val_loss: 0.6391 - val_accuracy: 0.7928\n",
      "Epoch 94/200\n",
      "938/938 [==============================] - 10s 10ms/step - loss: 0.5905 - accuracy: 0.8034 - val_loss: 0.6392 - val_accuracy: 0.7900\n",
      "Epoch 95/200\n",
      "938/938 [==============================] - 10s 10ms/step - loss: 0.5759 - accuracy: 0.8071 - val_loss: 0.6219 - val_accuracy: 0.7958\n",
      "Epoch 96/200\n",
      "938/938 [==============================] - 10s 10ms/step - loss: 0.5664 - accuracy: 0.8083 - val_loss: 0.6431 - val_accuracy: 0.7898\n",
      "Epoch 97/200\n",
      "938/938 [==============================] - 10s 11ms/step - loss: 0.5624 - accuracy: 0.8095 - val_loss: 0.6376 - val_accuracy: 0.7912\n",
      "Epoch 98/200\n",
      "938/938 [==============================] - 10s 10ms/step - loss: 0.5701 - accuracy: 0.8072 - val_loss: 0.6199 - val_accuracy: 0.7968\n",
      "Epoch 99/200\n",
      "938/938 [==============================] - 10s 10ms/step - loss: 0.5606 - accuracy: 0.8105 - val_loss: 0.6411 - val_accuracy: 0.7895\n",
      "Epoch 100/200\n",
      "938/938 [==============================] - 10s 10ms/step - loss: 0.5555 - accuracy: 0.8111 - val_loss: 0.6177 - val_accuracy: 0.7988\n",
      "Epoch 101/200\n",
      "938/938 [==============================] - 10s 10ms/step - loss: 0.5543 - accuracy: 0.8137 - val_loss: 0.6324 - val_accuracy: 0.7947\n",
      "Epoch 102/200\n",
      "938/938 [==============================] - 10s 10ms/step - loss: 0.5607 - accuracy: 0.8115 - val_loss: 0.6047 - val_accuracy: 0.8017\n",
      "Epoch 103/200\n",
      "938/938 [==============================] - 10s 10ms/step - loss: 0.5437 - accuracy: 0.8162 - val_loss: 0.6322 - val_accuracy: 0.7898\n",
      "Epoch 104/200\n",
      "938/938 [==============================] - 10s 10ms/step - loss: 0.5445 - accuracy: 0.8142 - val_loss: 0.6511 - val_accuracy: 0.7901\n",
      "Epoch 105/200\n",
      "938/938 [==============================] - 10s 10ms/step - loss: 0.5437 - accuracy: 0.8181 - val_loss: 0.6192 - val_accuracy: 0.8006\n",
      "Epoch 106/200\n",
      "938/938 [==============================] - 10s 10ms/step - loss: 0.5407 - accuracy: 0.8194 - val_loss: 0.6282 - val_accuracy: 0.7948\n",
      "Epoch 107/200\n",
      "938/938 [==============================] - 10s 10ms/step - loss: 0.5300 - accuracy: 0.8209 - val_loss: 0.6220 - val_accuracy: 0.7964\n",
      "Epoch 108/200\n",
      "938/938 [==============================] - 10s 10ms/step - loss: 0.5320 - accuracy: 0.8188 - val_loss: 0.6346 - val_accuracy: 0.7934\n",
      "Epoch 109/200\n",
      "938/938 [==============================] - 10s 11ms/step - loss: 0.5198 - accuracy: 0.8241 - val_loss: 0.6289 - val_accuracy: 0.7951\n",
      "Epoch 110/200\n",
      "938/938 [==============================] - 10s 10ms/step - loss: 0.5212 - accuracy: 0.8235 - val_loss: 0.6243 - val_accuracy: 0.7977\n",
      "Epoch 111/200\n",
      "938/938 [==============================] - 10s 10ms/step - loss: 0.5260 - accuracy: 0.8222 - val_loss: 0.5958 - val_accuracy: 0.8045\n",
      "Epoch 112/200\n",
      "938/938 [==============================] - 10s 10ms/step - loss: 0.5201 - accuracy: 0.8230 - val_loss: 0.6065 - val_accuracy: 0.8024\n",
      "Epoch 113/200\n",
      "938/938 [==============================] - 10s 10ms/step - loss: 0.5065 - accuracy: 0.8263 - val_loss: 0.6304 - val_accuracy: 0.7937\n",
      "Epoch 114/200\n",
      "938/938 [==============================] - 10s 10ms/step - loss: 0.5124 - accuracy: 0.8250 - val_loss: 0.6120 - val_accuracy: 0.8006\n",
      "Epoch 115/200\n",
      "938/938 [==============================] - 10s 10ms/step - loss: 0.5147 - accuracy: 0.8278 - val_loss: 0.6070 - val_accuracy: 0.8003\n",
      "Epoch 116/200\n",
      "938/938 [==============================] - 10s 10ms/step - loss: 0.5063 - accuracy: 0.8267 - val_loss: 0.6159 - val_accuracy: 0.7997\n",
      "Epoch 117/200\n",
      "938/938 [==============================] - 10s 10ms/step - loss: 0.5044 - accuracy: 0.8284 - val_loss: 0.6421 - val_accuracy: 0.7920\n",
      "Epoch 118/200\n",
      "938/938 [==============================] - 10s 10ms/step - loss: 0.5046 - accuracy: 0.8305 - val_loss: 0.5952 - val_accuracy: 0.8059\n",
      "Epoch 119/200\n",
      "938/938 [==============================] - 10s 10ms/step - loss: 0.4929 - accuracy: 0.8356 - val_loss: 0.5902 - val_accuracy: 0.8064\n",
      "Epoch 120/200\n",
      "938/938 [==============================] - 10s 10ms/step - loss: 0.4902 - accuracy: 0.8342 - val_loss: 0.5888 - val_accuracy: 0.8074\n",
      "Epoch 121/200\n",
      "938/938 [==============================] - 10s 10ms/step - loss: 0.4850 - accuracy: 0.8357 - val_loss: 0.5927 - val_accuracy: 0.8070\n",
      "Epoch 122/200\n",
      "938/938 [==============================] - 10s 10ms/step - loss: 0.5010 - accuracy: 0.8307 - val_loss: 0.5948 - val_accuracy: 0.8048\n",
      "Epoch 123/200\n",
      "938/938 [==============================] - 10s 10ms/step - loss: 0.4862 - accuracy: 0.8373 - val_loss: 0.5964 - val_accuracy: 0.8072\n",
      "Epoch 124/200\n",
      "938/938 [==============================] - 10s 10ms/step - loss: 0.4888 - accuracy: 0.8348 - val_loss: 0.6094 - val_accuracy: 0.8029\n",
      "Epoch 125/200\n",
      "938/938 [==============================] - 10s 10ms/step - loss: 0.4792 - accuracy: 0.8365 - val_loss: 0.6386 - val_accuracy: 0.7924\n",
      "Epoch 126/200\n",
      "938/938 [==============================] - 10s 10ms/step - loss: 0.4761 - accuracy: 0.8392 - val_loss: 0.6094 - val_accuracy: 0.8016\n",
      "Epoch 127/200\n",
      "938/938 [==============================] - 10s 10ms/step - loss: 0.4687 - accuracy: 0.8394 - val_loss: 0.5788 - val_accuracy: 0.8117\n",
      "Epoch 128/200\n",
      "938/938 [==============================] - 10s 10ms/step - loss: 0.4739 - accuracy: 0.8407 - val_loss: 0.6070 - val_accuracy: 0.8046\n",
      "Epoch 129/200\n",
      "938/938 [==============================] - 10s 10ms/step - loss: 0.4646 - accuracy: 0.8399 - val_loss: 0.5919 - val_accuracy: 0.8054\n",
      "Epoch 130/200\n",
      "938/938 [==============================] - 10s 10ms/step - loss: 0.4618 - accuracy: 0.8434 - val_loss: 0.5931 - val_accuracy: 0.8075\n",
      "Epoch 131/200\n",
      "938/938 [==============================] - 10s 10ms/step - loss: 0.4703 - accuracy: 0.8402 - val_loss: 0.5840 - val_accuracy: 0.8100\n",
      "Epoch 132/200\n",
      "938/938 [==============================] - 10s 10ms/step - loss: 0.4620 - accuracy: 0.8423 - val_loss: 0.5795 - val_accuracy: 0.8119\n",
      "Epoch 133/200\n",
      "938/938 [==============================] - 10s 10ms/step - loss: 0.4647 - accuracy: 0.8423 - val_loss: 0.5833 - val_accuracy: 0.8100\n",
      "Epoch 134/200\n",
      "938/938 [==============================] - 10s 10ms/step - loss: 0.4562 - accuracy: 0.8427 - val_loss: 0.5988 - val_accuracy: 0.8085\n",
      "Epoch 135/200\n",
      "938/938 [==============================] - 10s 10ms/step - loss: 0.4560 - accuracy: 0.8438 - val_loss: 0.5908 - val_accuracy: 0.8084\n",
      "Epoch 136/200\n",
      "938/938 [==============================] - 10s 10ms/step - loss: 0.4551 - accuracy: 0.8448 - val_loss: 0.5838 - val_accuracy: 0.8113\n",
      "Epoch 137/200\n",
      "938/938 [==============================] - 10s 10ms/step - loss: 0.4510 - accuracy: 0.8458 - val_loss: 0.5719 - val_accuracy: 0.8136\n",
      "Epoch 138/200\n",
      "938/938 [==============================] - 10s 10ms/step - loss: 0.4545 - accuracy: 0.8450 - val_loss: 0.6020 - val_accuracy: 0.8072\n",
      "Epoch 139/200\n",
      "938/938 [==============================] - 10s 10ms/step - loss: 0.4431 - accuracy: 0.8489 - val_loss: 0.5905 - val_accuracy: 0.8091\n",
      "Epoch 140/200\n",
      "938/938 [==============================] - 10s 10ms/step - loss: 0.4477 - accuracy: 0.8473 - val_loss: 0.5966 - val_accuracy: 0.8084\n",
      "Epoch 141/200\n",
      "938/938 [==============================] - 10s 11ms/step - loss: 0.4370 - accuracy: 0.8502 - val_loss: 0.5717 - val_accuracy: 0.8146\n",
      "Epoch 142/200\n",
      "938/938 [==============================] - 10s 10ms/step - loss: 0.4486 - accuracy: 0.8484 - val_loss: 0.5904 - val_accuracy: 0.8086\n",
      "Epoch 143/200\n",
      "938/938 [==============================] - 10s 10ms/step - loss: 0.4413 - accuracy: 0.8505 - val_loss: 0.5883 - val_accuracy: 0.8109\n",
      "Epoch 144/200\n",
      "938/938 [==============================] - 10s 10ms/step - loss: 0.4363 - accuracy: 0.8527 - val_loss: 0.5845 - val_accuracy: 0.8115\n",
      "Epoch 145/200\n",
      "938/938 [==============================] - 10s 10ms/step - loss: 0.4420 - accuracy: 0.8489 - val_loss: 0.5825 - val_accuracy: 0.8133\n",
      "Epoch 146/200\n",
      "938/938 [==============================] - 10s 10ms/step - loss: 0.4351 - accuracy: 0.8493 - val_loss: 0.5776 - val_accuracy: 0.8129\n",
      "Epoch 147/200\n",
      "938/938 [==============================] - 10s 10ms/step - loss: 0.4370 - accuracy: 0.8507 - val_loss: 0.5791 - val_accuracy: 0.8122\n",
      "Epoch 148/200\n",
      "938/938 [==============================] - 10s 10ms/step - loss: 0.4283 - accuracy: 0.8531 - val_loss: 0.5801 - val_accuracy: 0.8138\n",
      "Epoch 149/200\n",
      "938/938 [==============================] - 10s 10ms/step - loss: 0.4273 - accuracy: 0.8531 - val_loss: 0.5912 - val_accuracy: 0.8097\n",
      "Epoch 150/200\n",
      "938/938 [==============================] - 10s 10ms/step - loss: 0.4229 - accuracy: 0.8559 - val_loss: 0.5806 - val_accuracy: 0.8130\n",
      "Epoch 151/200\n",
      "938/938 [==============================] - 10s 10ms/step - loss: 0.4324 - accuracy: 0.8541 - val_loss: 0.6183 - val_accuracy: 0.8017\n",
      "Epoch 152/200\n",
      "938/938 [==============================] - 10s 10ms/step - loss: 0.4226 - accuracy: 0.8545 - val_loss: 0.5585 - val_accuracy: 0.8187\n",
      "Epoch 153/200\n",
      "938/938 [==============================] - 10s 10ms/step - loss: 0.4221 - accuracy: 0.8559 - val_loss: 0.5894 - val_accuracy: 0.8106\n",
      "Epoch 154/200\n",
      "938/938 [==============================] - 10s 10ms/step - loss: 0.4268 - accuracy: 0.8538 - val_loss: 0.5786 - val_accuracy: 0.8123\n",
      "Epoch 155/200\n",
      "938/938 [==============================] - 10s 10ms/step - loss: 0.4134 - accuracy: 0.8601 - val_loss: 0.6023 - val_accuracy: 0.8074\n",
      "Epoch 156/200\n",
      "938/938 [==============================] - 10s 10ms/step - loss: 0.4160 - accuracy: 0.8594 - val_loss: 0.6025 - val_accuracy: 0.8079\n",
      "Epoch 157/200\n",
      "938/938 [==============================] - 10s 10ms/step - loss: 0.4142 - accuracy: 0.8600 - val_loss: 0.5697 - val_accuracy: 0.8170\n",
      "Epoch 158/200\n",
      "938/938 [==============================] - 10s 10ms/step - loss: 0.4143 - accuracy: 0.8591 - val_loss: 0.5745 - val_accuracy: 0.8168\n",
      "Epoch 159/200\n",
      "938/938 [==============================] - 10s 10ms/step - loss: 0.4157 - accuracy: 0.8580 - val_loss: 0.5698 - val_accuracy: 0.8174\n",
      "Epoch 160/200\n",
      "938/938 [==============================] - 10s 10ms/step - loss: 0.4092 - accuracy: 0.8615 - val_loss: 0.5917 - val_accuracy: 0.8088\n",
      "Epoch 161/200\n",
      "938/938 [==============================] - 10s 10ms/step - loss: 0.4083 - accuracy: 0.8604 - val_loss: 0.5514 - val_accuracy: 0.8224\n",
      "Epoch 162/200\n",
      "938/938 [==============================] - 10s 10ms/step - loss: 0.4059 - accuracy: 0.8623 - val_loss: 0.5663 - val_accuracy: 0.8180\n",
      "Epoch 163/200\n",
      "938/938 [==============================] - 10s 10ms/step - loss: 0.4088 - accuracy: 0.8591 - val_loss: 0.5652 - val_accuracy: 0.8199\n",
      "Epoch 164/200\n",
      "938/938 [==============================] - 10s 10ms/step - loss: 0.4014 - accuracy: 0.8626 - val_loss: 0.5794 - val_accuracy: 0.8133\n",
      "Epoch 165/200\n",
      "938/938 [==============================] - 10s 10ms/step - loss: 0.4060 - accuracy: 0.8619 - val_loss: 0.5618 - val_accuracy: 0.8186\n",
      "Epoch 166/200\n",
      "938/938 [==============================] - 10s 10ms/step - loss: 0.4022 - accuracy: 0.8628 - val_loss: 0.5821 - val_accuracy: 0.8126\n",
      "Epoch 167/200\n",
      "938/938 [==============================] - 10s 10ms/step - loss: 0.3947 - accuracy: 0.8643 - val_loss: 0.5636 - val_accuracy: 0.8178\n",
      "Epoch 168/200\n",
      "938/938 [==============================] - 10s 10ms/step - loss: 0.3964 - accuracy: 0.8643 - val_loss: 0.5650 - val_accuracy: 0.8172\n",
      "Epoch 169/200\n",
      "938/938 [==============================] - 10s 10ms/step - loss: 0.3978 - accuracy: 0.8644 - val_loss: 0.5547 - val_accuracy: 0.8210\n",
      "Epoch 170/200\n",
      "938/938 [==============================] - 10s 10ms/step - loss: 0.3923 - accuracy: 0.8667 - val_loss: 0.5814 - val_accuracy: 0.8141\n",
      "Epoch 171/200\n",
      "938/938 [==============================] - 10s 10ms/step - loss: 0.3930 - accuracy: 0.8665 - val_loss: 0.5721 - val_accuracy: 0.8155\n",
      "Epoch 172/200\n",
      "938/938 [==============================] - 10s 10ms/step - loss: 0.3899 - accuracy: 0.8668 - val_loss: 0.5606 - val_accuracy: 0.8190\n",
      "Epoch 173/200\n",
      "938/938 [==============================] - 10s 11ms/step - loss: 0.3934 - accuracy: 0.8660 - val_loss: 0.5806 - val_accuracy: 0.8162\n",
      "Epoch 174/200\n",
      "938/938 [==============================] - 10s 10ms/step - loss: 0.3932 - accuracy: 0.8667 - val_loss: 0.5910 - val_accuracy: 0.8114\n",
      "Epoch 175/200\n",
      "938/938 [==============================] - 10s 10ms/step - loss: 0.3888 - accuracy: 0.8694 - val_loss: 0.5638 - val_accuracy: 0.8190\n",
      "Epoch 176/200\n",
      "938/938 [==============================] - 10s 10ms/step - loss: 0.3905 - accuracy: 0.8672 - val_loss: 0.5760 - val_accuracy: 0.8166\n",
      "Epoch 177/200\n",
      "938/938 [==============================] - 10s 10ms/step - loss: 0.3858 - accuracy: 0.8688 - val_loss: 0.5677 - val_accuracy: 0.8202\n",
      "Epoch 178/200\n",
      "938/938 [==============================] - 10s 10ms/step - loss: 0.3814 - accuracy: 0.8671 - val_loss: 0.5670 - val_accuracy: 0.8200\n",
      "Epoch 179/200\n",
      "938/938 [==============================] - 10s 10ms/step - loss: 0.3757 - accuracy: 0.8715 - val_loss: 0.5551 - val_accuracy: 0.8218\n",
      "Epoch 180/200\n",
      "938/938 [==============================] - 10s 10ms/step - loss: 0.3842 - accuracy: 0.8684 - val_loss: 0.5685 - val_accuracy: 0.8193\n",
      "Epoch 181/200\n",
      "938/938 [==============================] - 10s 10ms/step - loss: 0.3809 - accuracy: 0.8705 - val_loss: 0.5550 - val_accuracy: 0.8229\n",
      "Epoch 182/200\n",
      "938/938 [==============================] - 10s 10ms/step - loss: 0.3886 - accuracy: 0.8699 - val_loss: 0.5657 - val_accuracy: 0.8191\n",
      "Epoch 183/200\n",
      "938/938 [==============================] - 10s 10ms/step - loss: 0.3786 - accuracy: 0.8685 - val_loss: 0.5576 - val_accuracy: 0.8233\n",
      "Epoch 184/200\n",
      "938/938 [==============================] - 10s 10ms/step - loss: 0.3788 - accuracy: 0.8695 - val_loss: 0.5686 - val_accuracy: 0.8179\n",
      "Epoch 185/200\n",
      "938/938 [==============================] - 10s 10ms/step - loss: 0.3746 - accuracy: 0.8722 - val_loss: 0.5712 - val_accuracy: 0.8199\n",
      "Epoch 186/200\n",
      "938/938 [==============================] - 10s 10ms/step - loss: 0.3733 - accuracy: 0.8740 - val_loss: 0.5644 - val_accuracy: 0.8207\n",
      "Epoch 187/200\n",
      "938/938 [==============================] - 10s 10ms/step - loss: 0.3779 - accuracy: 0.8703 - val_loss: 0.5549 - val_accuracy: 0.8228\n",
      "Epoch 188/200\n",
      "938/938 [==============================] - 10s 10ms/step - loss: 0.3630 - accuracy: 0.8745 - val_loss: 0.5681 - val_accuracy: 0.8199\n",
      "Epoch 189/200\n",
      "938/938 [==============================] - 10s 10ms/step - loss: 0.3715 - accuracy: 0.8742 - val_loss: 0.5658 - val_accuracy: 0.8213\n",
      "Epoch 190/200\n",
      "938/938 [==============================] - 10s 10ms/step - loss: 0.3699 - accuracy: 0.8748 - val_loss: 0.5787 - val_accuracy: 0.8137\n",
      "Epoch 191/200\n",
      "938/938 [==============================] - 10s 10ms/step - loss: 0.3642 - accuracy: 0.8751 - val_loss: 0.5613 - val_accuracy: 0.8240\n",
      "Epoch 192/200\n",
      "938/938 [==============================] - 10s 10ms/step - loss: 0.3743 - accuracy: 0.8739 - val_loss: 0.5877 - val_accuracy: 0.8129\n",
      "Epoch 193/200\n",
      "938/938 [==============================] - 10s 10ms/step - loss: 0.3656 - accuracy: 0.8761 - val_loss: 0.5723 - val_accuracy: 0.8185\n",
      "Epoch 194/200\n",
      "938/938 [==============================] - 10s 10ms/step - loss: 0.3625 - accuracy: 0.8742 - val_loss: 0.5612 - val_accuracy: 0.8213\n",
      "Epoch 195/200\n",
      "938/938 [==============================] - 10s 10ms/step - loss: 0.3664 - accuracy: 0.8746 - val_loss: 0.5593 - val_accuracy: 0.8231\n",
      "Epoch 196/200\n",
      "938/938 [==============================] - 10s 10ms/step - loss: 0.3609 - accuracy: 0.8773 - val_loss: 0.5584 - val_accuracy: 0.8230\n",
      "Epoch 197/200\n",
      "938/938 [==============================] - 10s 10ms/step - loss: 0.3621 - accuracy: 0.8765 - val_loss: 0.5824 - val_accuracy: 0.8150\n",
      "Epoch 198/200\n",
      "938/938 [==============================] - 10s 10ms/step - loss: 0.3575 - accuracy: 0.8773 - val_loss: 0.5632 - val_accuracy: 0.8210\n",
      "Epoch 199/200\n",
      "938/938 [==============================] - 10s 10ms/step - loss: 0.3525 - accuracy: 0.8802 - val_loss: 0.5849 - val_accuracy: 0.8169\n",
      "Epoch 200/200\n",
      "938/938 [==============================] - 10s 10ms/step - loss: 0.3532 - accuracy: 0.8795 - val_loss: 0.5821 - val_accuracy: 0.8169\n",
      "Time passed: 1966.411502122879 seconds.\n"
     ]
    }
   ]
  },
  {
   "cell_type": "code",
   "source": [
    "# Plot training & validation accuracy values\n",
    "plt.plot(history.history['accuracy'])\n",
    "plt.plot(history.history['val_accuracy'])\n",
    "plt.title('Model accuracy')\n",
    "plt.ylabel('Accuracy')\n",
    "plt.xlabel('Epoch')\n",
    "plt.legend(['Train', 'Valid'], loc='upper left')\n",
    "plt.savefig('{}_accuracy.png'.format(time.strftime(\"%Y%m%d-%H%M%S\")))\n",
    "plt.show()\n",
    "\n",
    "t = time_passed(t)\n"
   ],
   "metadata": {
    "id": "c1r_xyMkfRoP",
    "colab": {
     "base_uri": "https://localhost:8080/",
     "height": 312
    },
    "outputId": "4c681bc6-2afe-478b-b497-9cecc660c117",
    "pycharm": {
     "name": "#%%\n"
    }
   },
   "execution_count": null,
   "outputs": [
    {
     "output_type": "display_data",
     "data": {
      "text/plain": [
       "<Figure size 432x288 with 1 Axes>"
      ],
      "image/png": "[encoded data removed]"
     },
     "metadata": {
      "needs_background": "light"
     }
    },
    {
     "output_type": "stream",
     "name": "stdout",
     "text": [
      "Time passed: 0.22568941116333008 seconds.\n"
     ]
    }
   ]
  },
  {
   "cell_type": "code",
   "source": [
    "model.save('./model')\n",
    "print('Saved trained model')\n",
    "\n",
    "t = time_passed(t)"
   ],
   "metadata": {
    "id": "wk_UsuvP2wZM",
    "colab": {
     "base_uri": "https://localhost:8080/"
    },
    "outputId": "2f92bd79-1d45-49ff-e887-a0b6d45916b4",
    "pycharm": {
     "name": "#%%\n"
    }
   },
   "execution_count": null,
   "outputs": [
    {
     "output_type": "stream",
     "name": "stdout",
     "text": [
      "INFO:tensorflow:Assets written to: /drive/My Drive/dataset/model/assets\n",
      "Saved trained model\n",
      "Time passed: 2.12528920173645 seconds.\n"
     ]
    }
   ]
  },
  {
   "cell_type": "code",
   "source": [
    "model = keras.models.load_model('./model')"
   ],
   "metadata": {
    "id": "wvCuCGKvh6ht",
    "pycharm": {
     "name": "#%%\n"
    }
   },
   "execution_count": null,
   "outputs": []
  },
  {
   "cell_type": "code",
   "source": [
    "scores = model.evaluate(X_test, y_test, verbose=1)\n",
    "print('Test loss:', scores[0])\n",
    "print('Test accuracy:', scores[1])\n",
    "t = time_passed(t)"
   ],
   "metadata": {
    "id": "6do7cxXW2rac",
    "colab": {
     "base_uri": "https://localhost:8080/"
    },
    "outputId": "f9b10caf-f2f9-41ab-b1df-1f1c3d39b4aa",
    "pycharm": {
     "name": "#%%\n"
    }
   },
   "execution_count": null,
   "outputs": [
    {
     "output_type": "stream",
     "name": "stdout",
     "text": [
      "1118/1118 [==============================] - 4s 3ms/step - loss: 0.5821 - accuracy: 0.8169\n",
      "Test loss: 0.5820885896682739\n",
      "Test accuracy: 0.8168883919715881\n",
      "Time passed: 6.066837787628174 seconds.\n"
     ]
    }
   ]
  },
  {
   "cell_type": "code",
   "source": [
    "y_pred = model.predict(X_test)"
   ],
   "metadata": {
    "id": "RuP5hD7zDXLL",
    "pycharm": {
     "name": "#%%\n"
    }
   },
   "execution_count": null,
   "outputs": []
  },
  {
   "cell_type": "code",
   "source": [
    "y_pred_classes = np.argmax(y_pred, axis=-1)\n",
    "y_pred_classes = reconvert_labels(y_pred_classes)\n",
    "y_pred_classes"
   ],
   "metadata": {
    "colab": {
     "base_uri": "https://localhost:8080/"
    },
    "id": "XX6lqB_SEQPZ",
    "outputId": "7db81f2f-c6d3-4bdd-dc91-985120c75a5b",
    "pycharm": {
     "name": "#%%\n"
    }
   },
   "execution_count": null,
   "outputs": [
    {
     "output_type": "execute_result",
     "data": {
      "text/plain": [
       "array(['pia', 'pia', 'voi', ..., 'pia', 'sax', 'gel'], dtype='<U3')"
      ]
     },
     "metadata": {},
     "execution_count": 21
    }
   ]
  },
  {
   "cell_type": "code",
   "source": [
    "y_test_classes = np.argmax(y_test, axis=-1)\n",
    "y_test_classes = reconvert_labels(y_test_classes)\n",
    "y_test_classes"
   ],
   "metadata": {
    "colab": {
     "base_uri": "https://localhost:8080/"
    },
    "id": "KEPxIPUeFi8-",
    "outputId": "75b7851c-b019-49fb-93be-6658d0f11218",
    "pycharm": {
     "name": "#%%\n"
    }
   },
   "execution_count": null,
   "outputs": [
    {
     "output_type": "execute_result",
     "data": {
      "text/plain": [
       "array(['pia', 'pia', 'voi', ..., 'gel', 'pia', 'org'], dtype='<U3')"
      ]
     },
     "metadata": {},
     "execution_count": 22
    }
   ]
  },
  {
   "cell_type": "code",
   "source": [
    "from sklearn.metrics import confusion_matrix\n",
    "instruments = [\"cel\", \"cla\", \"flu\", \"gac\", \"gel\", \"org\", \"pia\", \"sax\", \"tru\", \"vio\", \"voi\"]\n",
    "cf_matrix = confusion_matrix(y_test_classes, y_pred_classes, labels=instruments)"
   ],
   "metadata": {
    "id": "sOGHufgtFOTE",
    "pycharm": {
     "name": "#%%\n"
    }
   },
   "execution_count": null,
   "outputs": []
  },
  {
   "cell_type": "code",
   "source": [
    "import seaborn as sns\n",
    "plt.figure(figsize = (10,7))\n",
    "sns.color_palette(\"flare\", as_cmap=True)\n",
    "plt.tick_params(axis='both', which='major', labelsize=10, labelbottom = False, bottom=False, top = False, labeltop=True)\n",
    "sns.heatmap(cf_matrix, annot=True, fmt='d', xticklabels=instruments, yticklabels=instruments, cmap=\"flare\")"
   ],
   "metadata": {
    "colab": {
     "base_uri": "https://localhost:8080/",
     "height": 445
    },
    "id": "99m6SNbfHEYd",
    "outputId": "8bc3b7a4-8d6b-4fa1-ba6d-c8f7565d9761",
    "pycharm": {
     "name": "#%%\n"
    }
   },
   "execution_count": null,
   "outputs": [
    {
     "output_type": "execute_result",
     "data": {
      "text/plain": [
       "<matplotlib.axes._subplots.AxesSubplot at 0x7f631d296990>"
      ]
     },
     "metadata": {},
     "execution_count": 24
    },
    {
     "output_type": "display_data",
     "data": {
      "text/plain": [
       "<Figure size 720x504 with 2 Axes>"
      ],
      "image/png": "[encoded data removed]"
     },
     "metadata": {
      "needs_background": "light"
     }
    }
   ]
  }
 ]
}